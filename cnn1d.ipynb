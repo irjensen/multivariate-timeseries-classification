{
 "cells": [
  {
   "cell_type": "markdown",
   "metadata": {},
   "source": [
    "This iPython Notebook walks through the process of injesting cyclical multivariate timeseries data of varying samples per variable and training a 1-D convolutional neural network to predict system condition"
   ]
  },
  {
   "cell_type": "markdown",
   "metadata": {},
   "source": [
    "begin by loading the data into numpy arrays"
   ]
  },
  {
   "cell_type": "code",
   "execution_count": 1,
   "metadata": {},
   "outputs": [],
   "source": [
    "import numpy as np\n",
    "ps1 = np.loadtxt(\"./data/PS1.txt\")\n",
    "ps2 = np.loadtxt(\"./data/PS2.txt\")\n",
    "ps3 = np.loadtxt(\"./data/PS3.txt\")\n",
    "ps4 = np.loadtxt(\"./data/PS4.txt\")\n",
    "ps5 = np.loadtxt(\"./data/PS5.txt\")\n",
    "ps6 = np.loadtxt(\"./data/PS6.txt\")\n",
    "eps1 = np.loadtxt(\"./data/EPS1.txt\")\n",
    "fs1 = np.loadtxt(\"./data/FS1.txt\")\n",
    "fs2 = np.loadtxt(\"./data/FS2.txt\")\n",
    "ts1 = np.loadtxt(\"./data/TS1.txt\")\n",
    "ts2 = np.loadtxt(\"./data/TS2.txt\")\n",
    "ts3 = np.loadtxt(\"./data/TS3.txt\")\n",
    "ts4 = np.loadtxt(\"./data/TS4.txt\")\n",
    "vs1 = np.loadtxt(\"./data/VS1.txt\")\n",
    "ce = np.loadtxt(\"./data/CE.txt\")\n",
    "cp = np.loadtxt(\"./data/CP.txt\")\n",
    "se = np.loadtxt(\"./data/SE.txt\")\n",
    "\n",
    "data_list = [ps1, ps2, ps3, ps4, ps5, ps6, eps1, fs1, fs2, ts1, ts2, ts3, ts4, vs1, ce, cp, se]"
   ]
  },
  {
   "cell_type": "markdown",
   "metadata": {},
   "source": [
    "verify the data was loaded correctly by printing the shape and plotting the first row of each array"
   ]
  },
  {
   "cell_type": "code",
   "execution_count": 2,
   "metadata": {
    "scrolled": true
   },
   "outputs": [
    {
     "name": "stdout",
     "output_type": "stream",
     "text": [
      "(2205, 6000)\n"
     ]
    },
    {
     "data": {
      "text/plain": [
       "<Figure size 640x480 with 1 Axes>"
      ]
     },
     "metadata": {},
     "output_type": "display_data"
    },
    {
     "name": "stdout",
     "output_type": "stream",
     "text": [
      "(2205, 6000)\n"
     ]
    },
    {
     "data": {
      "text/plain": [
       "<Figure size 640x480 with 1 Axes>"
      ]
     },
     "metadata": {},
     "output_type": "display_data"
    },
    {
     "name": "stdout",
     "output_type": "stream",
     "text": [
      "(2205, 6000)\n"
     ]
    },
    {
     "data": {
      "text/plain": [
       "<Figure size 640x480 with 1 Axes>"
      ]
     },
     "metadata": {},
     "output_type": "display_data"
    },
    {
     "name": "stdout",
     "output_type": "stream",
     "text": [
      "(2205, 6000)\n"
     ]
    },
    {
     "data": {
      "text/plain": [
       "<Figure size 640x480 with 1 Axes>"
      ]
     },
     "metadata": {},
     "output_type": "display_data"
    },
    {
     "name": "stdout",
     "output_type": "stream",
     "text": [
      "(2205, 6000)\n"
     ]
    },
    {
     "data": {
      "text/plain": [
       "<Figure size 640x480 with 1 Axes>"
      ]
     },
     "metadata": {},
     "output_type": "display_data"
    },
    {
     "name": "stdout",
     "output_type": "stream",
     "text": [
      "(2205, 6000)\n"
     ]
    },
    {
     "data": {
      "text/plain": [
       "<Figure size 640x480 with 1 Axes>"
      ]
     },
     "metadata": {},
     "output_type": "display_data"
    },
    {
     "name": "stdout",
     "output_type": "stream",
     "text": [
      "(2205, 6000)\n"
     ]
    },
    {
     "data": {
      "text/plain": [
       "<Figure size 640x480 with 1 Axes>"
      ]
     },
     "metadata": {},
     "output_type": "display_data"
    },
    {
     "name": "stdout",
     "output_type": "stream",
     "text": [
      "(2205, 600)\n"
     ]
    },
    {
     "data": {
      "text/plain": [
       "<Figure size 640x480 with 1 Axes>"
      ]
     },
     "metadata": {},
     "output_type": "display_data"
    },
    {
     "name": "stdout",
     "output_type": "stream",
     "text": [
      "(2205, 600)\n"
     ]
    },
    {
     "data": {
      "text/plain": [
       "<Figure size 640x480 with 1 Axes>"
      ]
     },
     "metadata": {},
     "output_type": "display_data"
    },
    {
     "name": "stdout",
     "output_type": "stream",
     "text": [
      "(2205, 60)\n"
     ]
    },
    {
     "data": {
      "text/plain": [
       "<Figure size 640x480 with 1 Axes>"
      ]
     },
     "metadata": {},
     "output_type": "display_data"
    },
    {
     "name": "stdout",
     "output_type": "stream",
     "text": [
      "(2205, 60)\n"
     ]
    },
    {
     "data": {
      "text/plain": [
       "<Figure size 640x480 with 1 Axes>"
      ]
     },
     "metadata": {},
     "output_type": "display_data"
    },
    {
     "name": "stdout",
     "output_type": "stream",
     "text": [
      "(2205, 60)\n"
     ]
    },
    {
     "data": {
      "text/plain": [
       "<Figure size 640x480 with 1 Axes>"
      ]
     },
     "metadata": {},
     "output_type": "display_data"
    },
    {
     "name": "stdout",
     "output_type": "stream",
     "text": [
      "(2205, 60)\n"
     ]
    },
    {
     "data": {
      "text/plain": [
       "<Figure size 640x480 with 1 Axes>"
      ]
     },
     "metadata": {},
     "output_type": "display_data"
    },
    {
     "name": "stdout",
     "output_type": "stream",
     "text": [
      "(2205, 60)\n"
     ]
    },
    {
     "data": {
      "text/plain": [
       "<Figure size 640x480 with 1 Axes>"
      ]
     },
     "metadata": {},
     "output_type": "display_data"
    },
    {
     "name": "stdout",
     "output_type": "stream",
     "text": [
      "(2205, 60)\n"
     ]
    },
    {
     "data": {
      "text/plain": [
       "<Figure size 640x480 with 1 Axes>"
      ]
     },
     "metadata": {},
     "output_type": "display_data"
    },
    {
     "name": "stdout",
     "output_type": "stream",
     "text": [
      "(2205, 60)\n"
     ]
    },
    {
     "data": {
      "text/plain": [
       "<Figure size 640x480 with 1 Axes>"
      ]
     },
     "metadata": {},
     "output_type": "display_data"
    },
    {
     "name": "stdout",
     "output_type": "stream",
     "text": [
      "(2205, 60)\n"
     ]
    },
    {
     "data": {
      "text/plain": [
       "<Figure size 640x480 with 1 Axes>"
      ]
     },
     "metadata": {},
     "output_type": "display_data"
    }
   ],
   "source": [
    "import matplotlib.pyplot as plt\n",
    "for array in data_list:\n",
    "    print(array.shape)\n",
    "    plt.plot(array[0])\n",
    "    plt.show()"
   ]
  },
  {
   "cell_type": "markdown",
   "metadata": {},
   "source": [
    "Normalize the data between -1 and 1 with min/max normalization"
   ]
  },
  {
   "cell_type": "code",
   "execution_count": 3,
   "metadata": {},
   "outputs": [],
   "source": [
    "\n",
    "data_mins = [data.min() for data in data_list]\n",
    "data_maxes = [data.max() for data in data_list]\n",
    "\n",
    "transformed_data = [2 * (data - data_min) / (data_max - data_min) - 1\n",
    "                    for data, data_min, data_max in zip(data_list, data_mins, data_maxes)]"
   ]
  },
  {
   "cell_type": "markdown",
   "metadata": {
    "collapsed": true
   },
   "source": [
    "Randomly partition a sample from the data to be a validation set. The validation set is not to be used in training"
   ]
  },
  {
   "cell_type": "code",
   "execution_count": 42,
   "metadata": {},
   "outputs": [],
   "source": [
    "import random\n",
    "\n",
    "validation_size = transformed_data[0].shape[0] // 10\n",
    "\n",
    "train_data_indx = list(range(transformed_data[0].shape[0]))\n",
    "val_data_indx = []\n",
    "for _ in range(validation_size):\n",
    "    val_data_indx.append(train_data_indx.pop(random.randrange(len(train_data_indx))))\n",
    "    \n",
    "    "
   ]
  },
  {
   "cell_type": "markdown",
   "metadata": {},
   "source": [
    "Load in the label data and normalize it with min/max normalization"
   ]
  },
  {
   "cell_type": "code",
   "execution_count": 43,
   "metadata": {},
   "outputs": [],
   "source": [
    "label_data = np.loadtxt(\"./data/profile.txt\")\n",
    "label_mins = label_data.min(axis=0)\n",
    "label_maxes = label_data.max(axis=0)\n",
    "\n",
    "label_data = (label_data - label_mins) / (label_maxes - label_mins)"
   ]
  },
  {
   "cell_type": "code",
   "execution_count": 44,
   "metadata": {},
   "outputs": [],
   "source": [
    "import tensorflow as tf\n",
    "import importlib\n",
    "import models\n",
    "importlib.reload(models)\n",
    "from models import *"
   ]
  },
  {
   "cell_type": "markdown",
   "metadata": {},
   "source": [
    "Now train the network"
   ]
  },
  {
   "cell_type": "code",
   "execution_count": 58,
   "metadata": {
    "scrolled": false
   },
   "outputs": [
    {
     "name": "stdout",
     "output_type": "stream",
     "text": [
      "total trainable parameters:3,688,325\n",
      "learning_rate 9.999999999999972e-07... Epoch 200/200... Batch 240/248 ... Training Loss: 0.3012... Validation Loss: 0.1877   \n",
      "Finished training! Training Loss: 0.30122947692871094... Validation Loss: 0.1876923143863678\n"
     ]
    },
    {
     "data": {
      "image/png": "[encoded data removed]",
      "text/plain": [
       "<Figure size 432x288 with 1 Axes>"
      ]
     },
     "metadata": {},
     "output_type": "display_data"
    }
   ],
   "source": [
    "data_sizes = [array.shape[1] for array in transformed_data]\n",
    "label_size = label_data.shape[1]\n",
    "max_lr = 1e-4\n",
    "min_lr = 1e-6\n",
    "epoch_count = 200\n",
    "batch_size = 8\n",
    "out_dim = label_data.shape[1]\n",
    "\n",
    "train_graph = tf.Graph()\n",
    "with train_graph.as_default():\n",
    "    # initialize tf variables\n",
    "    inputs, labels, lr = cnn1d_inputs(data_sizes, label_size)\n",
    "    logits, predictions = cnn1d(inputs, label_size)\n",
    "    loss = tf.reduce_mean(tf.nn.sigmoid_cross_entropy_with_logits(logits=logits, labels=labels))\n",
    "    model_opt = tf.train.AdamOptimizer(lr).minimize(loss)\n",
    "    \n",
    "    batch_i = 0\n",
    "    train_loss_data = []\n",
    "    val_loss_data = []\n",
    "    train_loss = None\n",
    "    val_loss = None\n",
    "    \n",
    "    with tf.Session(graph=train_graph) as sess:\n",
    "        sess.run(tf.global_variables_initializer())\n",
    "        print(\"total trainable parameters:{:,}\".format( \n",
    "              np.sum([np.prod(v.get_shape().as_list()) for v in tf.trainable_variables()])))\n",
    "#         print([np.prod(v.get_shape().as_list()) for v in tf.trainable_variables()])\n",
    "\n",
    "        for epoch_i in range(epoch_count):\n",
    "            batch_i = 0\n",
    "            while (batch_i + 1) * batch_size <= len(train_data_indx):\n",
    "                # extract a batch from the training data and labels\n",
    "                indx_start = batch_i*batch_size\n",
    "                indx_end = (batch_i+1)*batch_size\n",
    "                data_batch = [array[train_data_indx][indx_start:indx_end] for array in transformed_data]\n",
    "                labels_batch = label_data[train_data_indx][indx_start:indx_end]\n",
    "\n",
    "                # use adaptive learning rate\n",
    "                learning_rate = max_lr - (max_lr - min_lr) * ((epoch_i + 1) / epoch_count)\n",
    "                \n",
    "                # run model optimizer on the batch\n",
    "                feed_dict={i: d for i, d in zip(inputs, data_batch)}\n",
    "                feed_dict.update({labels: labels_batch})\n",
    "                feed_dict.update({lr: learning_rate})\n",
    "                _ = sess.run(model_opt, feed_dict=feed_dict)\n",
    "\n",
    "                if batch_i % 10 == 0:\n",
    "                    # compute and record the training loss\n",
    "                    train_loss = loss.eval(feed_dict)\n",
    "                    train_loss_data.append(train_loss)\n",
    "\n",
    "                    # compute and record the validation loss\n",
    "                    val_data = [array[val_data_indx][:] for array in transformed_data]\n",
    "                    feed_dict = {key: value for key, value in zip(inputs, val_data)}\n",
    "                    feed_dict.update({labels:label_data[val_data_indx][:]})\n",
    "                    val_loss = loss.eval(feed_dict=feed_dict)\n",
    "                    val_loss_data.append(val_loss)\n",
    "\n",
    "                    # print training losses\n",
    "                    print(\"learning_rate {:.4f}...\".format(learning_rate),\n",
    "                          \"Epoch {}/{}...\".format(epoch_i+1, epoch_count),\n",
    "                          \"Batch {}/{} ...\".format(batch_i, len(train_data_indx)//batch_size),\n",
    "                          \"Training Loss: {:.4f}...\".format(train_loss),\n",
    "                          \"Validation Loss: {:.4f}\".format(val_loss),\n",
    "                          end=\"  \\r\",)                    \n",
    "                batch_i += 1\n",
    "\n",
    "        print(\"\\nFinished training!\",\n",
    "              \"Training Loss: {}...\".format(train_loss),\n",
    "              \"Validation Loss: {}\".format(val_loss))\n",
    "        train, = plt.plot(train_loss_data, label=\"Training Loss\")\n",
    "        val, = plt.plot(val_loss_data, label=\"Validation Loss\")\n",
    "        plt.legend(handles=[train, val])\n",
    "        plt.show()\n",
    "        \n",
    "        saver = tf.train.Saver()\n",
    "        saver.save(sess, './cnn1d_4/')\n",
    "\n",
    "        "
   ]
  },
  {
   "cell_type": "code",
   "execution_count": 60,
   "metadata": {},
   "outputs": [
    {
     "name": "stdout",
     "output_type": "stream",
     "text": [
      "INFO:tensorflow:Restoring parameters from ./cnn1d_4/\n",
      "mean absolute error:  0.0397301926115577\n"
     ]
    }
   ],
   "source": [
    "with train_graph.as_default():\n",
    "    inputs, labels, lr = cnn1d_inputs(data_sizes, label_size)\n",
    "    _, predictions = cnn1d(inputs, label_size, is_train=False)\n",
    "    with tf.Session(graph=train_graph) as sess:\n",
    "        sess.run(tf.global_variables_initializer())\n",
    "        saver = tf.train.Saver()\n",
    "        saver.restore(sess, './cnn1d_4/')\n",
    "        \n",
    "        val_data = [array[val_data_indx][:] for array in transformed_data]\n",
    "        feed_dict={i: d for i, d in zip(inputs, val_data)}\n",
    "        feed_dict.update({labels:labels_batch})\n",
    "        y_ = sess.run(predictions, feed_dict)\n",
    "        y = label_data[val_data_indx][:]\n",
    "        #print(y)\n",
    "        print(\"mean absolute error: \", np.mean(np.abs(y_ - y)))"
   ]
  },
  {
   "cell_type": "markdown",
   "metadata": {},
   "source": [
    "Since the labels are normalized, we can infer the network's validation accuracy to be 96.03%"
   ]
  }
 ],
 "metadata": {
  "kernelspec": {
   "display_name": "Python 3",
   "language": "python",
   "name": "python3"
  },
  "language_info": {
   "codemirror_mode": {
    "name": "ipython",
    "version": 3
   },
   "file_extension": ".py",
   "mimetype": "text/x-python",
   "name": "python",
   "nbconvert_exporter": "python",
   "pygments_lexer": "ipython3",
   "version": "3.6.5"
  }
 },
 "nbformat": 4,
 "nbformat_minor": 2
}
